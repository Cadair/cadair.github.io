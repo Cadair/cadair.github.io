{
 "cells": [
  {
   "cell_type": "markdown",
   "metadata": {},
   "source": [
    "This post compares a few implementations of calculating the first 10,000 numbers in the Fibbonacci sequence.\n",
    "\n",
    "The Fibbonacci sequence is defined such that the next number in the sequence is the sum of the previous two:\n",
    "\n",
    "i.e.\n",
    "\n",
    "1, 1, 2, 3, 5, 8, 13, 21, 34, 55, 89, 144, 233, 377\n",
    "\n",
    "This is some prep work I did to test numba on the HPC cluster at Sheffield University. I am hoping to get more fancy stuff running using numba on the cluster."
   ]
  },
  {
   "cell_type": "markdown",
   "metadata": {},
   "source": [
    "First off we start with a nice simple and short Python implementation:"
   ]
  },
  {
   "cell_type": "code",
   "execution_count": 1,
   "metadata": {
    "collapsed": true
   },
   "outputs": [],
   "source": [
    "def fib(n):\n",
    "    fib = [0, 1]\n",
    "    while len(fib) < n+1:\n",
    "        fib.append(fib[-2] + fib[-1])\n",
    "    return fib[1:]"
   ]
  },
  {
   "cell_type": "markdown",
   "metadata": {},
   "source": [
    "This implementation creates a list with the first two elements in (some consider the first 0 as part of the sequence) and then loops until the length of the output list is the correct length (+1 because of the 0) adding the next element in as the sum of the previous two."
   ]
  },
  {
   "cell_type": "code",
   "execution_count": 2,
   "metadata": {
    "collapsed": false
   },
   "outputs": [
    {
     "name": "stdout",
     "output_type": "stream",
     "text": [
      "100 loops, best of 3: 7.28 ms per loop\n"
     ]
    }
   ],
   "source": [
    "%timeit fib(10000)"
   ]
  },
  {
   "cell_type": "markdown",
   "metadata": {},
   "source": [
    "This implementation is respectable, but not exactly fast."
   ]
  },
  {
   "cell_type": "markdown",
   "metadata": {},
   "source": [
    "Next up we are going to use a little bit of more modern Python magic to see if we can make a pure Python implementation. This uses an interator which stores it's state when 'yield' is called, upon the next time the iterator is called it will resume from where it left off."
   ]
  },
  {
   "cell_type": "code",
   "execution_count": 3,
   "metadata": {
    "collapsed": true
   },
   "outputs": [],
   "source": [
    "def fib_generator(n):\n",
    "    previous, current = 0, 1\n",
    "    yield current\n",
    "    i = 1\n",
    "    while i < n:\n",
    "        previous, current = current, previous + current\n",
    "        yield current\n",
    "        i += 1"
   ]
  },
  {
   "cell_type": "code",
   "execution_count": 4,
   "metadata": {
    "collapsed": false
   },
   "outputs": [
    {
     "name": "stdout",
     "output_type": "stream",
     "text": [
      "100 loops, best of 3: 5.45 ms per loop\n"
     ]
    }
   ],
   "source": [
    "%timeit list(fib_generator(10000))"
   ]
  },
  {
   "cell_type": "markdown",
   "metadata": {},
   "source": [
    "This is a litte quicker, which is nice."
   ]
  },
  {
   "cell_type": "markdown",
   "metadata": {},
   "source": [
    "Next up we are going to try and use numpy. In this example we define an array the length of the desired sequence and then fill it up in a for loop:"
   ]
  },
  {
   "cell_type": "code",
   "execution_count": 5,
   "metadata": {
    "collapsed": false
   },
   "outputs": [],
   "source": [
    "import numpy as np"
   ]
  },
  {
   "cell_type": "code",
   "execution_count": 46,
   "metadata": {
    "collapsed": true
   },
   "outputs": [],
   "source": [
    "def fib_numpy(n):\n",
    "    fib = np.zeros(n, dtype=int)\n",
    "    fib[1] = 1\n",
    "    for i in range(2, n):\n",
    "        fib[i] = fib[i-2] + fib[i-1]\n",
    "    return fib[1:]"
   ]
  },
  {
   "cell_type": "code",
   "execution_count": 47,
   "metadata": {
    "collapsed": false
   },
   "outputs": [
    {
     "name": "stdout",
     "output_type": "stream",
     "text": [
      "1000 loops, best of 3: 1.33 ms per loop\n"
     ]
    },
    {
     "name": "stderr",
     "output_type": "stream",
     "text": [
      "/opt/miniconda/envs/numba/lib/python3.5/site-packages/IPython/kernel/__main__.py:5: RuntimeWarning: overflow encountered in long_scalars\n"
     ]
    }
   ],
   "source": [
    "%timeit fib_numpy(1000)"
   ]
  },
  {
   "cell_type": "markdown",
   "metadata": {},
   "source": [
    "This does not give us much, if anything over the generator example."
   ]
  },
  {
   "cell_type": "markdown",
   "metadata": {},
   "source": [
    "Now we are going to use numba which is a just in time compilation library for Python, which makes things SUPER speedy!"
   ]
  },
  {
   "cell_type": "code",
   "execution_count": 16,
   "metadata": {
    "collapsed": true
   },
   "outputs": [],
   "source": [
    "from numba import jit"
   ]
  },
  {
   "cell_type": "code",
   "execution_count": 32,
   "metadata": {
    "collapsed": false
   },
   "outputs": [],
   "source": [
    "@jit\n",
    "def loop(fib):\n",
    "    for i in range(2, len(fib)):\n",
    "        fib[i] = fib[i-2] + fib[i-1]\n",
    "    return fib\n",
    "    \n",
    "def fib_numba(n):\n",
    "    fib = np.zeros(n, dtype=np.int64)\n",
    "    fib[1] = 1\n",
    "    fib = loop(fib)\n",
    "    return fib"
   ]
  },
  {
   "cell_type": "code",
   "execution_count": 35,
   "metadata": {
    "collapsed": false
   },
   "outputs": [
    {
     "data": {
      "text/plain": [
       "array([                   0,                    1,                    1,\n",
       "       ...,  8449541255618067177, -5660816691627274375,\n",
       "        2788724563990792802])"
      ]
     },
     "execution_count": 35,
     "metadata": {},
     "output_type": "execute_result"
    }
   ],
   "source": [
    "fib_numba(10000)"
   ]
  },
  {
   "cell_type": "code",
   "execution_count": 36,
   "metadata": {
    "collapsed": false
   },
   "outputs": [
    {
     "name": "stdout",
     "output_type": "stream",
     "text": [
      "The slowest run took 8.10 times longer than the fastest. This could mean that an intermediate result is being cached \n",
      "10000 loops, best of 3: 37.3 µs per loop\n"
     ]
    }
   ],
   "source": [
    "%timeit fib_numba(10000)"
   ]
  },
  {
   "cell_type": "markdown",
   "metadata": {},
   "source": [
    "This makes a MASSIVE difference! In fact probably too much of a difference, something fishy is probably going on here."
   ]
  },
  {
   "cell_type": "markdown",
   "metadata": {},
   "source": [
    "Finally we shall use the Cython package for completeness:"
   ]
  },
  {
   "cell_type": "code",
   "execution_count": null,
   "metadata": {
    "collapsed": false
   },
   "outputs": [],
   "source": [
    "%load_ext Cython"
   ]
  },
  {
   "cell_type": "code",
   "execution_count": null,
   "metadata": {
    "collapsed": false
   },
   "outputs": [],
   "source": [
    "%%cython\n",
    "import numpy as np\n",
    "cimport numpy as np\n",
    "\n",
    "def fib_cython(int n):\n",
    "    cdef np.ndarray fib = np.zeros(n)\n",
    "    cdef int i\n",
    "    \n",
    "    fib[1] = 1\n",
    "    for i in range(2, n):\n",
    "        fib[i] = fib[i-2] + fib[i-1]\n",
    "    \n",
    "    return fib[1:]"
   ]
  },
  {
   "cell_type": "code",
   "execution_count": null,
   "metadata": {
    "collapsed": false
   },
   "outputs": [],
   "source": [
    "%timeit fib_cython(10000)"
   ]
  },
  {
   "cell_type": "markdown",
   "metadata": {},
   "source": [
    "This isn't a bad speed up and there are more optimisations you can do with cython."
   ]
  }
 ],
 "metadata": {
  "kernelspec": {
   "display_name": "Environment (numba)",
   "language": "",
   "name": "numba"
  },
  "language_info": {
   "codemirror_mode": {
    "name": "ipython",
    "version": 3
   },
   "file_extension": ".py",
   "mimetype": "text/x-python",
   "name": "python",
   "nbconvert_exporter": "python",
   "pygments_lexer": "ipython3",
   "version": "3.5.0"
  }
 },
 "nbformat": 4,
 "nbformat_minor": 0
}
