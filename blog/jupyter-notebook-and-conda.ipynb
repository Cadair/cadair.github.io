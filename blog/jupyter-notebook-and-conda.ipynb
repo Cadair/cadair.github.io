{
 "cells": [
  {
   "cell_type": "markdown",
   "metadata": {
    "collapsed": false
   },
   "source": [
    "This post is going to be the first in a series of posts about the Jupyter Notebook and the supercomputing facility ['iceberg'](http://rcg.group.shef.ac.uk/iceberg/index.html) at Sheffield University.\n",
    "\n",
    "This post is about a plugin for the Jupyter Notebook I have written to make it easier to work with Jupyter and the [conda](http://conda.pydata.org/docs/) python package manager. Specifically the fantastic [environments](http://conda.pydata.org/docs/using/envs.html) feature, which allow you to have multiple different versions of Python and different stacks of packages installed alongside one another.\n",
    "\n",
    "When working with conda and the Jupyter Notebook you can create a different envronment and install Jupyter into it and then use the notebook from within that environment. This might look something like this:"
   ]
  },
  {
   "cell_type": "markdown",
   "metadata": {},
   "source": [
    "```\n",
    "conda create -n numpy python=3 numpy jupyter\n",
    "source activate numpy\n",
    "jupyter notebook\n",
    "```"
   ]
  },
  {
   "cell_type": "markdown",
   "metadata": {},
   "source": [
    "This approach works fine, but what happens if you want to switch to running your current notebook in the \"numpy-1.9\" envronment instead to test it with a previous version of NumPy? You would have to do this:"
   ]
  },
  {
   "cell_type": "markdown",
   "metadata": {},
   "source": [
    "Stop the notebook sever then:\n",
    "```\n",
    "source deactivate\n",
    "source activate numpy-1.9\n",
    "jupyter notebook\n",
    "```\n",
    "Then reload the notebook you had open before."
   ]
  },
  {
   "cell_type": "markdown",
   "metadata": {},
   "source": [
    "What my Notebook plugin does is enables you to switch environments from within a running notebook server, but using the \"kernel\" feature of the Notebook."
   ]
  },
  {
   "cell_type": "markdown",
   "metadata": {},
   "source": [
    "![Jupyter Kernel Switching](/images/jupyterhub-kernels.png)"
   ]
  },
  {
   "cell_type": "markdown",
   "metadata": {},
   "source": [
    "Each entry in the kernel list above that starts with 'Environment' is a conda environment that has Jupyter installed within it, and you can start a notebook using any of those envronments."
   ]
  },
  {
   "cell_type": "markdown",
   "metadata": {},
   "source": [
    "The plugin that enables this is [jupyter_envrionment_kernels](https://github.com/Cadair/jupyter_environment_kernels) (catchy name I know). It looks in the directories you specify for installed environments which have Jupyter installed (the `ipython` executable is in the `bin/` directory) and lists them as kernels for Jupyter to find. This makes it easy to run one notebook instance and access kernels with access to different versions of Python or different modules seamlessly."
   ]
  },
  {
   "cell_type": "markdown",
   "metadata": {},
   "source": [
    "To solve our earlier problem of \"live\" switching the kernel we can use the Kernel > Change Kernel menu:"
   ]
  },
  {
   "cell_type": "markdown",
   "metadata": {},
   "source": [
    "![Jupyter Notebook Switch Running Kernel](/images/jupyterhub-running-kernel.png)"
   ]
  },
  {
   "cell_type": "markdown",
   "metadata": {},
   "source": [
    "## Installing jupyter_environment_kernels"
   ]
  },
  {
   "cell_type": "markdown",
   "metadata": {},
   "source": [
    "Installation of the package is easy just run\n",
    "```\n",
    "pip install environment_kernels\n",
    "```\n",
    "from within the environment in which you want to run the notebook server.\n",
    "\n",
    "Then run:\n",
    "```\n",
    "jupyter notebook --generate-config\n",
    "```\n",
    "to generate a Jupyter notebook config file (if you already have one then skip this step), finally edit the config file it has generated (by default this is `~/.jupyter/jupyter_notebook_config.py`) and add the following two lines:\n",
    "```\n",
    "c.NotebookApp.kernel_spec_manager_class = 'environment_kernels.EnvironmentKernelSpecManager'\n",
    "c.EnvironmentKernelSpecManager.conda_env_dirs=['~/.conda/envs']\n",
    "```\n",
    "The first line tells the notebook to use the environment_kernels module to manage the kernels, and the second line lists all the directories in which to look for environments with `ipython` executables. By default (i.e. if you don't provide the second line) it will look in `~/.conda/envs` and `~/.virtualenvs` where the top level directory is assumed to be the name of the environment and then it looks inside the `bin` directory for `ipython`.\n",
    "\n",
    "It is also possible to configure the package to use the `conda` terminal command to find your environments. This will only work if `conda` is availble from where you ran the notebook command (i.e. you installed the notebook using conda). To use this you just need the:\n",
    "\n",
    "```\n",
    "c.NotebookApp.kernel_spec_manager_class = 'environment_kernels.EnvironmentKernelSpecManager'\n",
    "```\n",
    "configuration line."
   ]
  },
  {
   "cell_type": "markdown",
   "metadata": {},
   "source": [
    "This module is still very new so if you enounter any issues please raise issues on [GitHub](https://github.com/Cadair/jupyter_environment_kernels/issues)."
   ]
  }
 ],
 "metadata": {
  "kernelspec": {
   "display_name": "Python 3",
   "language": "python",
   "name": "python3"
  },
  "language_info": {
   "codemirror_mode": {
    "name": "ipython",
    "version": 3
   },
   "file_extension": ".py",
   "mimetype": "text/x-python",
   "name": "python",
   "nbconvert_exporter": "python",
   "pygments_lexer": "ipython3",
   "version": "3.5.1"
  }
 },
 "nbformat": 4,
 "nbformat_minor": 0
}
