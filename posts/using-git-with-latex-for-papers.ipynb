{
 "cells": [
  {
   "cell_type": "markdown",
   "metadata": {},
   "source": [
    "In this blog post I will demonstrate my git + LaTeX workflow for acedemic papers. For those of you who might be reading this lucky enough not to comprehend the workflow of submitting a paper to a scientific journal, it goes something like this (YMMV):\n",
    "\n",
    "1. Spend months slaving over a manuscript you think is amazing.\n",
    "1. Get supervisors / co-authors feedback on your paper.\n",
    "1. Make lots and **lots** of corrections.\n",
    "1. Get supervisors / co-authors feedback on your paper.\n",
    "1. Send your paper to a journal.\n",
    "1. Get a referee report you try very hard not to to take personally.\n",
    "1. Make lots and **lots** of corrections.\n",
    "1. Resubmit your paper to the journal.\n",
    "1. Get a referee report you find slightly exasperating.\n",
    "1. Make even more corrections.\n",
    "1. Resubmit your paper to the journal.\n",
    "1. (Hopefully) Get your paper published.\n",
    "\n",
    "This whole process, right at the heart of the scientific method, can be painful, demoralising and generally a lot of work, but it is all worth it when you get a paper with your name on it out into the world (*right?*).\n",
    "\n",
    "The workflow involves integrating a lot of changes into your manuscript from a lot of different people who might be reading slightly different versions of the paper, while you might still be working on it in parallel. As well as this, most journals give you the option of providing the sources for your manuscript and only updating the parts that have changed during the resubmission process.\n",
    "\n",
    "The situation I have found myself in with all this, is that I need to be able to track changes to the paper that I have made, or I have had suggested to me, at different points in the cycle and I need to be able to highlight changes in the compiled output (generally referees and journals like versions with highlighted changes). The workflow I describe here assumes I am the only person involved in the process with the willingness to use a version control system, if you are lucky enough to have persuaded a co-author to join you in the future, then it is made a little easier.\n",
    "\n",
    "I am going to assume you have at least basic git knowledge (mainly, what a branch is and how to use one), if you need a primer on git, there are many great resources online."
   ]
  },
  {
   "cell_type": "markdown",
   "metadata": {},
   "source": [
    "## The Beggining\n",
    "\n",
    "In the beggining there was the empty page.\n",
    "\n",
    "When you start writing your paper, put it in a git repository.\n",
    "\n",
    "```\n",
    "mkdir mypaper\n",
    "git init\n",
    "```\n",
    "\n",
    "Generally when writing LaTeX source under version control, I find it best to stick to one sentance per line. This keeps git happy because it allows it to show you the difference between commits on a sentance by sentance basis rather than on a paragraph by paragraph basis. (A single line in most programming languages is a 'unit' of code, much like a sentance is a 'unit' of the English language)."
   ]
  },
  {
   "cell_type": "markdown",
   "metadata": {},
   "source": [
    "## The Draft\n",
    "\n",
    "Once you have written your fanstic contribution to the sum total of human knowlege, you should have a full history of changes to your manuscript (you did *commit early and commit often* right?).\n",
    "\n",
    "Now comes the time to hand your paper off to your co-authors for comments. What I do at this point is to create a git tag for each person I am showing the paper to:\n",
    "```\n",
    "git tag coauthor1\n",
    "```\n",
    "\n",
    "Now print it off and wait."
   ]
  },
  {
   "cell_type": "markdown",
   "metadata": {},
   "source": [
    "## Ooops! Forgot something!\n",
    "\n",
    "So while in the shower you remember something you want to add or change, but you have already given a version to coauthor1. Easy!\n",
    "\n",
    "```\n",
    "git checkout master\n",
    "```\n",
    "\n",
    "Now make your changes and continue as if you had not given it to anyone to read. Now when you get your corrections back you can make them on a branch that has the source code in the same state as when you gave it to your co-author."
   ]
  },
  {
   "cell_type": "markdown",
   "metadata": {},
   "source": [
    "## Corrections\n",
    "\n",
    "Next up, you get a bit of crumpled up paper with more red pen than text.\n",
    "\n",
    "Let's make a new branch which is based on the coauthor1 tag so you can make your changes, and keep a record of the last version we gave to coauthor1.\n",
    "\n",
    "```\n",
    "git checkout -b coauthor1-changes1 coauthor1\n",
    "```\n",
    "\n",
    "Make your changes, with no worrying about what you have changed in the month you have been waiting for feedback. Just take the source back to the point where you gave it to them and make the changes.\n",
    "\n",
    "Now you can let git work it's magic, you can go back to your version and merge in the changes from your co-author.\n",
    "\n",
    "```\n",
    "git checkout master\n",
    "git merge coauthor1-changes1\n",
    "```\n",
    "\n",
    "You might have some conflicts to work out but that is nothing [meld]() can't handle, run `git mergetool` to get a graphical merge interface if your merge conflicts."
   ]
  },
  {
   "cell_type": "markdown",
   "metadata": {},
   "source": [
    "## The Second Draft\n",
    "\n",
    "So the paper is improved and ready to go out to your co-authors for the (last?) time. This is where the real secret sauce of this post comes in, you can use git to tell you what has changed since you last gave your paper to your co-author:\n",
    "\n",
    "```\n",
    "git diff coauthor1..HEAD mypaper.tex\n",
    "```\n",
    "\n",
    "This is great! Now your co-author will know which bits of the manuscript they need to look over in more detail. Unfortunately, they are not proficient at reading git diff's!\n",
    "\n",
    "You can overcome this limitation by using the **fantastic** latexdiff script, which takes to LaTeX source files and produces a fully highlighted difference tex file, which can be compiled into a pdf in the normal manner.\n",
    "It is possible to integrate this into git, by creating a git alias \n",
    "\n",
    "```\n",
    "difftool.latex.cmd=latexdiff $LOCAL $REMOTE\n",
    "```\n",
    "\n",
    "What this does is creates a new git command `git latexdiff` which we can use to invoke latexdiff and get a highlighted tex file.\n",
    "\n",
    "```\n",
    "git latexdiff coauthor1..HEAD mypaper.tex > diff.tex\n",
    "```\n",
    "\n",
    "This creates a new tex file `diff.tex` which you can open in your tex editor and compile. What you will get is something that looks like this:\n",
    "\n",
    "![]()\n",
    "\n",
    "Now give this to your co-authors and wait for them to ask how you made it!!"
   ]
  }
 ],
 "metadata": {
  "kernelspec": {
   "display_name": "Python 3",
   "language": "python",
   "name": "python3"
  },
  "language_info": {
   "codemirror_mode": {
    "name": "ipython",
    "version": 3
   },
   "file_extension": ".py",
   "mimetype": "text/x-python",
   "name": "python",
   "nbconvert_exporter": "python",
   "pygments_lexer": "ipython3",
   "version": "3.5.0"
  }
 },
 "nbformat": 4,
 "nbformat_minor": 0
}
