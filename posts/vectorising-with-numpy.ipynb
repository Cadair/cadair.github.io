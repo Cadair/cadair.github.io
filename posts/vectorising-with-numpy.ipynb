{
 "cells": [
  {
   "cell_type": "markdown",
   "metadata": {
    "collapsed": false
   },
   "source": [
    "In this post I will teach myself how to speed up iterative computations with numpy's ufunc internals!"
   ]
  },
  {
   "cell_type": "code",
   "execution_count": 1,
   "metadata": {
    "collapsed": true
   },
   "outputs": [],
   "source": [
    "import numpy as np"
   ]
  },
  {
   "cell_type": "code",
   "execution_count": 3,
   "metadata": {
    "collapsed": false
   },
   "outputs": [
    {
     "name": "stdout",
     "output_type": "stream",
     "text": [
      "Help on built-in function frompyfunc in module numpy.core.umath:\n",
      "\n",
      "frompyfunc(...)\n",
      "    frompyfunc(func, nin, nout)\n",
      "    \n",
      "    Takes an arbitrary Python function and returns a Numpy ufunc.\n",
      "    \n",
      "    Can be used, for example, to add broadcasting to a built-in Python\n",
      "    function (see Examples section).\n",
      "    \n",
      "    Parameters\n",
      "    ----------\n",
      "    func : Python function object\n",
      "        An arbitrary Python function.\n",
      "    nin : int\n",
      "        The number of input arguments.\n",
      "    nout : int\n",
      "        The number of objects returned by `func`.\n",
      "    \n",
      "    Returns\n",
      "    -------\n",
      "    out : ufunc\n",
      "        Returns a Numpy universal function (``ufunc``) object.\n",
      "    \n",
      "    Notes\n",
      "    -----\n",
      "    The returned ufunc always returns PyObject arrays.\n",
      "    \n",
      "    Examples\n",
      "    --------\n",
      "    Use frompyfunc to add broadcasting to the Python function ``oct``:\n",
      "    \n",
      "    >>> oct_array = np.frompyfunc(oct, 1, 1)\n",
      "    >>> oct_array(np.array((10, 30, 100)))\n",
      "    array([012, 036, 0144], dtype=object)\n",
      "    >>> np.array((oct(10), oct(30), oct(100))) # for comparison\n",
      "    array(['012', '036', '0144'],\n",
      "          dtype='|S4')\n",
      "\n"
     ]
    }
   ],
   "source": [
    "help(np.frompyfunc)"
   ]
  },
  {
   "cell_type": "markdown",
   "metadata": {},
   "source": [
    "A simple example:"
   ]
  },
  {
   "cell_type": "code",
   "execution_count": 36,
   "metadata": {
    "collapsed": true
   },
   "outputs": [],
   "source": [
    "def myloop(arr, number):\n",
    "    for i in range(arr.shape[0]):\n",
    "        for j in range(arr.shape[1]):\n",
    "            arr[i, j] = arr[i, j] + number"
   ]
  },
  {
   "cell_type": "code",
   "execution_count": 37,
   "metadata": {
    "collapsed": true
   },
   "outputs": [],
   "source": [
    "myarr = np.zeros([100, 100])"
   ]
  },
  {
   "cell_type": "code",
   "execution_count": 38,
   "metadata": {
    "collapsed": false
   },
   "outputs": [
    {
     "name": "stdout",
     "output_type": "stream",
     "text": [
      "100 loops, best of 3: 4.55 ms per loop\n"
     ]
    }
   ],
   "source": [
    "%timeit myloop(myarr, 5)"
   ]
  },
  {
   "cell_type": "code",
   "execution_count": 26,
   "metadata": {
    "collapsed": true
   },
   "outputs": [],
   "source": [
    "def myufunc(element, number):\n",
    "    return element + number"
   ]
  },
  {
   "cell_type": "code",
   "execution_count": 30,
   "metadata": {
    "collapsed": true
   },
   "outputs": [],
   "source": [
    "loop2 = np.frompyfunc(myufunc, 2, 1)"
   ]
  },
  {
   "cell_type": "code",
   "execution_count": 32,
   "metadata": {
    "collapsed": false
   },
   "outputs": [
    {
     "name": "stdout",
     "output_type": "stream",
     "text": [
      "1000 loops, best of 3: 2.07 ms per loop\n"
     ]
    }
   ],
   "source": [
    "%timeit loop2(myarr, 5)"
   ]
  },
  {
   "cell_type": "code",
   "execution_count": 39,
   "metadata": {
    "collapsed": true
   },
   "outputs": [],
   "source": [
    "a = 5"
   ]
  },
  {
   "cell_type": "code",
   "execution_count": 40,
   "metadata": {
    "collapsed": false
   },
   "outputs": [
    {
     "name": "stdout",
     "output_type": "stream",
     "text": [
      "The slowest run took 25.10 times longer than the fastest. This could mean that an intermediate result is being cached \n",
      "10000000 loops, best of 3: 63.7 ns per loop\n"
     ]
    }
   ],
   "source": [
    "%timeit a*a"
   ]
  },
  {
   "cell_type": "code",
   "execution_count": 41,
   "metadata": {
    "collapsed": false
   },
   "outputs": [
    {
     "name": "stdout",
     "output_type": "stream",
     "text": [
      "The slowest run took 8.04 times longer than the fastest. This could mean that an intermediate result is being cached \n",
      "1000000 loops, best of 3: 246 ns per loop\n"
     ]
    }
   ],
   "source": [
    "%timeit a**2"
   ]
  },
  {
   "cell_type": "code",
   "execution_count": 42,
   "metadata": {
    "collapsed": true
   },
   "outputs": [],
   "source": [
    "import math"
   ]
  },
  {
   "cell_type": "code",
   "execution_count": 43,
   "metadata": {
    "collapsed": false
   },
   "outputs": [
    {
     "name": "stdout",
     "output_type": "stream",
     "text": [
      "The slowest run took 33.64 times longer than the fastest. This could mean that an intermediate result is being cached \n",
      "1000000 loops, best of 3: 820 ns per loop\n"
     ]
    }
   ],
   "source": [
    "%timeit np.sqrt(a)"
   ]
  },
  {
   "cell_type": "code",
   "execution_count": 44,
   "metadata": {
    "collapsed": false
   },
   "outputs": [
    {
     "name": "stdout",
     "output_type": "stream",
     "text": [
      "The slowest run took 32.11 times longer than the fastest. This could mean that an intermediate result is being cached \n",
      "10000000 loops, best of 3: 141 ns per loop\n"
     ]
    }
   ],
   "source": [
    "%timeit math.sqrt(5)"
   ]
  },
  {
   "cell_type": "code",
   "execution_count": null,
   "metadata": {
    "collapsed": true
   },
   "outputs": [],
   "source": []
  }
 ],
 "metadata": {
  "kernelspec": {
   "display_name": "Environment (python3)",
   "language": "",
   "name": "python3"
  },
  "language_info": {
   "codemirror_mode": {
    "name": "ipython",
    "version": 3
   },
   "file_extension": ".py",
   "mimetype": "text/x-python",
   "name": "python",
   "nbconvert_exporter": "python",
   "pygments_lexer": "ipython3",
   "version": "3.5.0"
  }
 },
 "nbformat": 4,
 "nbformat_minor": 0
}
