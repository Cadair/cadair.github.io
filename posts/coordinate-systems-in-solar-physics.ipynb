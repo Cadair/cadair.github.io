{
 "cells": [
  {
   "cell_type": "markdown",
   "metadata": {},
   "source": [
    "## Background"
   ]
  },
  {
   "cell_type": "markdown",
   "metadata": {
    "ein.tags": [
     "worksheet-0"
    ]
   },
   "source": [
    "Over the last few years, one of the places in SunPy I have been focusing my development efforts has been improving SunPy's coordinate handling. This has really taken two main tracks, the first is the better handling of FITS-WCS in SunPy Map, the second, and the topic of this post, is the representation of physical coordinates in SunPy.\n",
    "The full story of this post really starts before the 2013 Astropy coordination meeting, which I attended remotely. It was at this meeting I discussed with Erik Tollerud about the future redesign of Astropy's coordinates module and how we could leverage this for SunPy. Skip forward a fair amount and after all the planning and implementing of Astropy coordinates (which I was involved with), we set about implementing the solar physics coordinate systems in SunPy but as a 'plugin' to Astropy's module.\n",
    "\n",
    "To do this I had the invaluble help of a Google Summer of Code student [Pritish Chakraborty](http://pritishc.com/) who did the vast majority of the implementation of what is now the `sunpy.coordinates` module. He and I embarked on a mission to learn not just the Astropy coordinates package which we were using, but also all the maths of these systems and the transformations between them, which will be the topic of this post.\n",
    "\n",
    "Anyway, enough of the back story and onto the coordinates!"
   ]
  },
  {
   "cell_type": "markdown",
   "metadata": {},
   "source": [
    "# Solar Coordinate Systems "
   ]
  },
  {
   "cell_type": "code",
   "execution_count": null,
   "metadata": {
    "collapsed": false,
    "tags": [
     "jupyter:kill_cell"
    ]
   },
   "outputs": [],
   "source": [
    "import copy\n",
    "\n",
    "%matplotlib inline\n",
    "import matplotlib.pyplot as plt\n",
    "from mpl_toolkits.axes_grid1.inset_locator import InsetPosition, BboxConnector\n",
    "import matplotlib.animation as anim\n",
    "import sunpy.coordinates\n",
    "from astropy.visualization import wcsaxes\n",
    "\n",
    "from astropy.wcs import WCS\n",
    "import numpy as np"
   ]
  },
  {
   "cell_type": "markdown",
   "metadata": {
    "ein.tags": [
     "worksheet-0"
    ]
   },
   "source": [
    "## Terminology and Basics"
   ]
  },
  {
   "cell_type": "markdown",
   "metadata": {
    "ein.tags": [
     "worksheet-0"
    ]
   },
   "source": [
    "Before we progress any further we must clarify what a coordinate system is and what we are going to call things. A 'coordinate system' is a way of describing points in two dimensional or three dimensional space which is well defined. This 'system' comprises of two main components:\n",
    "\n",
    "* A representation of a point in vector space, i.e. cartesian, spherical or cylindrical.\n",
    "* A reference system, which orientates the axes of the system with respect to some well defined points.\n",
    "\n",
    "We adopt this convention from [APE 5](https://github.com/astropy/astropy-APEs/blob/master/APE5.rst#backgroundterminology).\n",
    "\n",
    "For the rest of this post we shall mainly be discussing reference systems and the different ones commonly in use in solar physics."
   ]
  },
  {
   "cell_type": "markdown",
   "metadata": {
    "ein.tags": [
     "worksheet-0"
    ]
   },
   "source": [
    "## Projected Coordinate Systems"
   ]
  },
  {
   "cell_type": "markdown",
   "metadata": {
    "ein.tags": [
     "worksheet-0"
    ]
   },
   "source": [
    "One common type of coordinate system in astronomy is the projected coordinate system. When observing the sky, the positions of objects on the sky can be described as points on a two dimensional spherical coordinate system, centred upon the observer. This also applies to imaging the sky, as most astronomers do regularly.\n",
    "\n",
    "Like any other coordinate system a projected system has to have an origin, which is the observer, and it has to be aligned to some reference axes. In the case of the solar physics projected coordinate systems these reference axes are the line from the solar centre to the solar north pole, and the line from the solar centre to the observer.\n",
    "\n",
    "There are two solar-specifc projected coordinate systems, helioprojective-cartesian and helioprojective-radial. The first, and most important thing to point out is that, despite the misleading names given to them, they are both fully sperical coordinate systems with positions given as longitude and latitude on the celestial sphere. They are so named, because of their similarities to the true 3D heliocentric coordinate systems we shall discuss later.\n"
   ]
  },
  {
   "cell_type": "markdown",
   "metadata": {
    "ein.tags": [
     "worksheet-0"
    ]
   },
   "source": [
    "### Helioprojective-Cartesian Frame"
   ]
  },
  {
   "cell_type": "markdown",
   "metadata": {
    "ein.tags": [
     "worksheet-0"
    ]
   },
   "source": [
    "The most commonly used coordinate frame in solar physics is heliocentric-cartesian, this frame has the zero line of longitude aligned with the line from the solar centre to the solar north pole. It also has the line of zero latitude aligned with the solar equator, meaning that the point of zero longitude and latitude is given to be the centre of the solar disk as seen by the observer.\n",
    "\n",
    "Due to the small angular size of the Sun as seen from Earth, just under $2000''$ or just over $0.55^\\circ$, it has been historically common to approximate this coordinate system as a cartesian system with the y axis being latitude and the x axis being longitude. This is possible due to the small angle approximation, which states that $\\sin \\theta \\approx \\theta$ and $\\cos \\theta \\approx 1 - \\frac{\\theta^2}{2}$ the error in these approximations is well below 1% for any point on the solar disk.\n",
    "\n",
    "This historical convention has lead to the common labelling of helioprojective longitude and latitude as solar-x and solar-y, and the notion that HPC (helioprojective-cartesian) is actually not a spherical system, which is false."
   ]
  },
  {
   "cell_type": "code",
   "execution_count": null,
   "metadata": {
    "collapsed": false,
    "tags": [
     "jupyter:kill_input"
    ]
   },
   "outputs": [],
   "source": [
    "blank = np.zeros((2048, 2048)) * np.NaN\n",
    "\n",
    "hpc_wcs = WCS(naxis=2)\n",
    "hpc_wcs.wcs.ctype = ['HPLN-TAN', 'HPLT-TAN']\n",
    "hpc_wcs.wcs.crval = [0.]*2\n",
    "hpc_wcs.wcs.crpix = np.array(blank.shape)/2\n",
    "hpc_wcs.wcs.cdelt = [400.]*2\n",
    "hpc_wcs.wcs.cunit = ['arcsec']*2\n",
    "\n",
    "hpc_wcs = WCS(naxis=2)\n",
    "hpc_wcs.wcs.ctype = ['HPLN-ZEA', 'HPLT-ZEA']\n",
    "hpc_wcs.wcs.crval = [0., 0.]\n",
    "hpc_wcs.wcs.crpix = np.array(blank.shape)/2\n",
    "hpc_wcs.wcs.cdelt = [250.,250.]\n",
    "hpc_wcs.wcs.cunit = ['arcsec']*2\n",
    "\n",
    "inset_wcs = WCS(naxis=2)\n",
    "inset_wcs.wcs.ctype = ['HPLN-TAN', 'HPLT-TAN']\n",
    "inset_wcs.wcs.crval = [0.]*2\n",
    "inset_wcs.wcs.crpix = np.array(blank.shape)/2\n",
    "inset_wcs.wcs.cdelt = [4.]*2\n",
    "inset_wcs.wcs.cunit = ['arcsec']*2\n",
    "\n",
    "fig = plt.figure(figsize=(10,10))\n",
    "ax = fig.add_subplot(111, projection=hpc_wcs)\n",
    "ax.imshow(blank, origin='lower')\n",
    "\n",
    "x = ax.coords[0]\n",
    "y = ax.coords[1]\n",
    "\n",
    "x.set_axislabel(\"Longitude [deg]\")\n",
    "y.set_axislabel(\"Latitude [deg]\")\n",
    "\n",
    "ax.coords.grid(color='black', ls='-')\n",
    "\n",
    "inset_axes = plt.axes([0, 0, 1, 1], projection=inset_wcs)\n",
    "ip = InsetPosition(ax, [0.73, 0.73, 0.25, 0.25])\n",
    "inset_axes.set_axes_locator(ip)\n",
    "\n",
    "\n",
    "inset_axes.imshow(blank, origin='lower')\n",
    "x = inset_axes.coords[0]\n",
    "y = inset_axes.coords[1]\n",
    "\n",
    "x.set_ticks(number=4)\n",
    "y.set_ticks(number=4)\n",
    "\n",
    "x.set_major_formatter('s.s')\n",
    "y.set_major_formatter('s.s')\n",
    "\n",
    "x.set_axislabel(\"Longitude [arcsec]\")\n",
    "y.set_axislabel(\"Latitude [arcsec]\")\n",
    "\n",
    "inset_axes.coords.grid(color='black', ls='-')\n",
    "\n",
    "circ = plt.Circle(inset_wcs.wcs.crpix, radius=(1200/3600)/inset_wcs.wcs.cdelt[0], color='yellow', ec='k')\n",
    "inset_axes.add_artist(circ)\n",
    "\n",
    "width, height = np.array(blank.shape) * inset_wcs.wcs.cdelt[0]\n",
    "centre = (0-width/2, 0-height/2)\n",
    "rect = plt.Rectangle(centre, width, height, transform=ax.get_transform('world'), fc='none')\n",
    "ax.add_artist(rect)\n",
    "\n",
    "p1 = BboxConnector(inset_axes.bbox, rect, loc1=2, ls='--')\n",
    "inset_axes.add_patch(p1)\n",
    "p1.set_clip_on(False)\n",
    "p2 = BboxConnector(inset_axes.bbox, rect, loc1=4, ls='--')\n",
    "inset_axes.add_patch(p2)\n",
    "p2.set_clip_on(False)\n",
    "\n",
    "t = ax.set_title(\"Demonstrating the cartesian approximation\")"
   ]
  },
  {
   "cell_type": "markdown",
   "metadata": {
    "ein.tags": [
     "worksheet-0"
    ]
   },
   "source": [
    "### Helioprojective-Radial Frame"
   ]
  },
  {
   "cell_type": "markdown",
   "metadata": {
    "ein.tags": [
     "worksheet-0"
    ]
   },
   "source": [
    "The helioprojective-radial (HPR) frame is very similar to the helioprojective-cartesian (HPC) frame apart from the point on the celestial sphere that is aligned to the centre of the solar disk. While the HPC system sets the centre of the disk to be the point (0,0) of longitude and latitude, the HPR system defines it to be (0, -90), i.e. at the south pole of the celestial sphere.\n",
    "\n",
    "As with HPC there is a confusing convention normally adopted when using HPR. By definition the south pole of the celestial sphere actually has the coordinates (0, 0) in HPR and latitude goes from $0^\\circ$ to $180^\\circ$, rather than from $90^\\circ$ to $-90^\\circ$ as is usual in spherical coordinates."
   ]
  },
  {
   "cell_type": "markdown",
   "metadata": {},
   "source": [
    "## Heliocentric Systems"
   ]
  },
  {
   "cell_type": "markdown",
   "metadata": {},
   "source": [
    "The other commonly used systems in solar physics have the centre of the Sun as the origin, thus heliocentric, as opposed to observer centric. Unlike the projective systems, which are normally used as two dimensional (the radius being technically at infinity), the heliocentric systems are fully three dimensional and are always used as such."
   ]
  },
  {
   "cell_type": "markdown",
   "metadata": {},
   "source": [
    "### Heliocentric (Cartesian)"
   ]
  },
  {
   "cell_type": "markdown",
   "metadata": {},
   "source": [
    "The so called 'Heliocentric' system is observer aligned, the two axes are the line between the centre of the Sun and the solar north pole and the line from the centre of the Sun to the observer. You may recall this is the same as the Helioprojective-Cartesian system, only differing in the choice of origin. This is where the somewhat confusing name of the helioprojective-cartesian frame originates from, because if you take the small angle approximation, cartesian coordinates in the helioprojective-cartesian system can be approximated to coordinates in the heliocentric system.\n",
    "\n",
    "The heliocentric system, due to its similarities to the helioprojective-cartesian system is very useful for conversion from helioprojective-cartesian to points on the solar surface. Obviously, when converting from a projective (and two dimensional) point into a heliocentric (and three dimensional) system, an assumption has to be made to recover the third coordinate. This assumption is that the coordinate points lay on the surface of a sphere of fixed radius, normally taken to be the photospheric radius of the Sun. Using this assumption, the poisition in three dimensional space can be calculated. This step is performed automatically by the `sunpy.coordinates` module if the helioprojective frame is specified without a third coordinate."
   ]
  },
  {
   "cell_type": "markdown",
   "metadata": {},
   "source": [
    "### Heliographic (Stonyhurst)"
   ]
  },
  {
   "cell_type": "markdown",
   "metadata": {},
   "source": [
    "The third major type of coordinate system used is the heliographic type, of which there is two variations. Heliographic systems are spherical heliocentric systems and are commonly used to specify points on the solar surface in a way which is not observer dependent. The two axes of the heliographic-stonyhurst system are the line between the solar centre and the solar north pole, as is standard, and the line along the solar equator which aligns to the Earth, *i.e.* if the Earth were to orbit perfectly aligned to the solar equator, the line would always travel through the Earth.\n",
    "The practical effect of this definition is that the heliographic-stonyhurst system has its north pole at the solar north pole and the 0th meridian of longitude is aligned to the Earth."
   ]
  },
  {
   "cell_type": "markdown",
   "metadata": {},
   "source": [
    "### Heliographic (Carrington)"
   ]
  },
  {
   "cell_type": "markdown",
   "metadata": {},
   "source": [
    "This system differs from the heliographic-stonyhurst system in its definition of the 0th meridian of longitude, in the heliographic-carrington system the meridian rotates around the Sun once every 27 days and aligns with the heliographic-stonyhurst system at the start of each [Carrington rotation]()."
   ]
  },
  {
   "cell_type": "code",
   "execution_count": null,
   "metadata": {
    "collapsed": false,
    "scrolled": false
   },
   "outputs": [],
   "source": [
    "blank = np.zeros((2048, 2048)) * np.NaN\n",
    "\n",
    "hpc_wcs = WCS(naxis=2)\n",
    "hpc_wcs.wcs.ctype = ['HPLN-ZEA', 'HPLT-ZEA']\n",
    "hpc_wcs.wcs.crval = [0., 0.]\n",
    "hpc_wcs.wcs.crpix = np.array(blank.shape)/2\n",
    "hpc_wcs.wcs.cdelt = [250.,250.]\n",
    "hpc_wcs.wcs.cunit = ['arcsec']*2\n",
    "\n",
    "fig = plt.figure(figsize=(10,10))\n",
    "ax = fig.add_subplot(111, projection=hpc_wcs)\n",
    "ax.imshow(blank, origin='lower')\n",
    "\n",
    "x = ax.coords[0]\n",
    "y = ax.coords[1]\n",
    "\n",
    "x.set_axislabel(\"Longitude [deg]\")\n",
    "y.set_axislabel(\"Latitude [deg]\")\n",
    "\n",
    "ax.coords.grid(color='black', ls='-')\n",
    "\n",
    "def update(i, ax, nframes):\n",
    "    scale = float(nframes-i)*(250./nframes)\n",
    "    scale+=10 #  Prevent it hitting 0\n",
    "    \n",
    "    wcs = copy.deepcopy(ax.wcs)\n",
    "    wcs.wcs.cdelt = [scale]*2\n",
    "    ax.reset_wcs(wcs)\n",
    "    ax.coords.grid(color='black', ls='-')\n",
    "\n",
    "nframes = 10\n",
    "ani = anim.FuncAnimation(fig, update, frames=range(nframes), fargs=(ax, nframes))\n",
    "ani.save(\"test.mpv\")"
   ]
  },
  {
   "cell_type": "code",
   "execution_count": null,
   "metadata": {
    "collapsed": true
   },
   "outputs": [],
   "source": []
  }
 ],
 "metadata": {
  "celltoolbar": "Edit Metadata",
  "kernelspec": {
   "display_name": "Environment (sunpy-dev)",
   "language": "python",
   "name": "sunpy-dev"
  },
  "language_info": {
   "codemirror_mode": {
    "name": "ipython",
    "version": 3
   },
   "file_extension": ".py",
   "mimetype": "text/x-python",
   "name": "python",
   "nbconvert_exporter": "python",
   "pygments_lexer": "ipython3",
   "version": "3.5.2"
  },
  "name": "coordinate-systems-in-solar-physics.ipynb"
 },
 "nbformat": 4,
 "nbformat_minor": 0
}
