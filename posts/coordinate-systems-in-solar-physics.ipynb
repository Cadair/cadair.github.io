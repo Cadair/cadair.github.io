{
 "cells": [
  {
   "cell_type": "markdown",
   "metadata": {
    "ein.tags": [
     "worksheet-0"
    ]
   },
   "source": [
    "Over the last few years, one of the places in SunPy I have been focusing my development efforts has been improving SunPy's coordinate handling. This has really taken two main tracks, the first is the better handling of FITS-WCS in SunPy Map, the second, and the topic of this post, is the representation of physical coordinates in SunPy.\n",
    "The full story of this post really starts before the 2013 Astropy coordination meeting, which I attended remotely. It was at this meeting I discussed with Erik Tollerud about the future redesign of Astropy's coordinates module and how we could leverage this for SunPy. Skip forward a fair amount and after all the planning and implementing of Astropy coordinates (which I was involved with), we set about implementing the solar physics coordinate systems in SunPy but as a 'plugin' to Astropy's module.\n",
    "\n",
    "To do this I had the invaluble help of a Goole Summer of Code student [Pritish Chakraborty](http://pritishc.com/) who did the vast majority of the implementation of what is now the `sunpy.coordinates` module. He and I embarked on a mission to learn not just the Astropy coordinates package which we were using, but also all the maths of these systems and the transformations between them, which will be the topic of this post.\n",
    "\n",
    "Anyway, enough of the back story and onto the coordinates!"
   ]
  },
  {
   "cell_type": "markdown",
   "metadata": {
    "ein.tags": [
     "worksheet-0"
    ]
   },
   "source": [
    "## Terminology and Basics"
   ]
  },
  {
   "cell_type": "markdown",
   "metadata": {
    "ein.tags": [
     "worksheet-0"
    ]
   },
   "source": [
    "\n",
    "Before we progress any further we must clarify what a coordinate system is and what we are going to call things. A 'coordinate system' is a way of describing points in two dimensional or three dimensional space which is well defined. This 'system' comprises of two main components:\n",
    "\n",
    "* A representation of a point in vector space, i.e. cartesian, spherical or cylindrical.\n",
    "* A reference system, which orientates the axes of the system with respect to some well defined points.\n",
    "\n",
    "We adopt this convention from [APE 5](https://github.com/astropy/astropy-APEs/blob/master/APE5.rst#backgroundterminology).\n",
    "\n",
    "For the rest of this post we shall mainly be discussing reference systems and the different ones commonly in use in solar physics."
   ]
  }
 ],
 "metadata": {
  "kernelspec": {
   "display_name": "Environment (sunpy-dev)",
   "name": "sunpy-dev"
  },
  "language_info": {
   "codemirror_mode": {
    "name": "ipython",
    "version": 2
   },
   "file_extension": ".py",
   "mimetype": "text/x-python",
   "name": "python",
   "nbconvert_exporter": "python",
   "pygments_lexer": "ipython2",
   "version": "2.7.11"
  },
  "name": "coordinate-systems-in-solar-physics.ipynb"
 },
 "nbformat": 4,
 "nbformat_minor": 0
}
