{
 "cells": [
  {
   "cell_type": "markdown",
   "metadata": {},
   "source": [
    "## Thermostat"
   ]
  },
  {
   "cell_type": "markdown",
   "metadata": {},
   "source": [
    "I purchased one of [these](https://shop.openenergymonitor.com/wifi-mqtt-relay-thermostat/) to control my heating."
   ]
  },
  {
   "cell_type": "markdown",
   "metadata": {},
   "source": [
    "### HTTP API"
   ]
  },
  {
   "cell_type": "markdown",
   "metadata": {},
   "source": [
    "#### thermostat.cgi"
   ]
  },
  {
   "cell_type": "markdown",
   "metadata": {},
   "source": [
    "* GET `/control/thermostat.cgi?param=state`\n",
    "* POST `/control/thermostat.cgi?param=thermostat_state`\n",
    "    - off: `0`\n",
    "    - schedule: `1`\n",
    "    - manual: `2`\n",
    "* POST `/control/thermostat.cgi?param=thermostat_manualsetpoint`\n",
    "    - temp in 1/100s of a degree C, `2100`\n",
    "* POST `/control/thermostat.cgi?param=thermostat_heat_cool`\n",
    "    - heating: `0`\n",
    "    - cooling: `1`\n",
    "* POST `/control/thermostat.cgi?param=thermostat_schedule`\n",
    "    - `'{\"tue\":[{\"s\":0,\"e\":2400,\"sp\":2100}]}'`"
   ]
  },
  {
   "cell_type": "markdown",
   "metadata": {},
   "source": [
    "#### relay.cgi\n",
    "\n",
    "\n",
    "* GET `/control/relay.cgi?relay1=1`\n",
    "    - param: `relay1` `0` for off `1` for on"
   ]
  }
 ],
 "metadata": {
  "celltoolbar": "Edit Metadata",
  "kernelspec": {
   "display_name": "Python 3",
   "language": "python",
   "name": "python3"
  },
  "language_info": {
   "codemirror_mode": {
    "name": "ipython",
    "version": 3
   },
   "file_extension": ".py",
   "mimetype": "text/x-python",
   "name": "python",
   "nbconvert_exporter": "python",
   "pygments_lexer": "ipython3",
   "version": "3.6.0"
  }
 },
 "nbformat": 4,
 "nbformat_minor": 2
}
